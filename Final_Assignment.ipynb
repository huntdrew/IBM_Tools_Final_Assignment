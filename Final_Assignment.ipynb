{
  "metadata": {
    "kernelspec": {
      "name": "python",
      "display_name": "Pyolite",
      "language": "python"
    },
    "language_info": {
      "codemirror_mode": {
        "name": "python",
        "version": 3
      },
      "file_extension": ".py",
      "mimetype": "text/x-python",
      "name": "python",
      "nbconvert_exporter": "python",
      "pygments_lexer": "ipython3",
      "version": "3.8"
    }
  },
  "nbformat_minor": 4,
  "nbformat": 4,
  "cells": [
    {
      "cell_type": "markdown",
      "source": "<center>\n    <img src=\"https://cf-courses-data.s3.us.cloud-object-storage.appdomain.cloud/IBMDeveloperSkillsNetwork-DS0105EN-SkillsNetwork/labs/Module2/images/SN_web_lightmode.png\" width=\"300\" alt=\"cognitiveclass.ai logo\"  />\n</center>\n",
      "metadata": {}
    },
    {
      "cell_type": "markdown",
      "source": "# My Jupyter Notebook on IBM Watson Studio",
      "metadata": {}
    },
    {
      "cell_type": "markdown",
      "source": "**Drew Hunt**<br>\nProduct Technical Specialist I",
      "metadata": {}
    },
    {
      "cell_type": "markdown",
      "source": "*I am interested in data science because it is a very high-paying career with many opportunities in many different industries.*",
      "metadata": {}
    },
    {
      "cell_type": "markdown",
      "source": "### The code below simply adds two values together",
      "metadata": {}
    },
    {
      "cell_type": "code",
      "source": "2 + 2",
      "metadata": {
        "trusted": true
      },
      "execution_count": 2,
      "outputs": [
        {
          "execution_count": 2,
          "output_type": "execute_result",
          "data": {
            "text/plain": "4"
          },
          "metadata": {}
        }
      ]
    },
    {
      "cell_type": "markdown",
      "source": "|Type of Website|Link for Website|Image of Company|\n|------|------|------|\n|<u> Search Engine|<a href=\"https://www.google.com/\">Google</a>|<img src=\"data:image/png;base64,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\" alt=\"google\" width=\"200\"/>|\n|<u> Online Shopping and Delivery|<a href=\"https://www.amazon.com/\">Amazon</a>|<img src=\"data:image/png;base64,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\" alt=\"amazon\" width=\"200\"/>|\n|<u> Entertainment and Content Sharing|<a href=\"https://www.youtube.com/\">Youtube</a>|<img src=\"https://www.freepnglogos.com/uploads/youtube-logo-hd-8.png\" alt=\"youtube\" width=\"200\"/>|",
      "metadata": {}
    }
  ]
}